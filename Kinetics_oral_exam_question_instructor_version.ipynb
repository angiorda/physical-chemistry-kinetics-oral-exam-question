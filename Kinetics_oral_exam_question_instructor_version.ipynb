{
  "nbformat": 4,
  "nbformat_minor": 0,
  "metadata": {
    "kernelspec": {
      "display_name": "Python 3",
      "language": "python",
      "name": "python3"
    },
    "language_info": {
      "codemirror_mode": {
        "name": "ipython",
        "version": 3
      },
      "file_extension": ".py",
      "mimetype": "text/x-python",
      "name": "python",
      "nbconvert_exporter": "python",
      "pygments_lexer": "ipython3",
      "version": "3.6.8"
    },
    "colab": {
      "name": "Kinetics oral exam question - instructor version.ipynb",
      "provenance": [],
      "include_colab_link": true
    }
  },
  "cells": [
    {
      "cell_type": "markdown",
      "metadata": {
        "id": "view-in-github",
        "colab_type": "text"
      },
      "source": [
        "<a href=\"https://colab.research.google.com/github/angiorda/physical-chemistry-kinetics-oral-exam-question/blob/main/Kinetics_oral_exam_question_instructor_version.ipynb\" target=\"_parent\"><img src=\"https://colab.research.google.com/assets/colab-badge.svg\" alt=\"Open In Colab\"/></a>"
      ]
    },
    {
      "cell_type": "markdown",
      "metadata": {
        "id": "PNHcwy7n2eRJ"
      },
      "source": [
        "The kinetics of double-stand formation for a DNA oligonucleotide containing a GTbase pair was measure by temperature dependent kinteics experiment. The reaction and data obtained are given below. Do both the forward and reverse reactions follow Arrhenius behavior?  If so, calculate the activation energy for the reaction(s). If not, why can we not calculate an activation energy?  \n",
        "\n",
        "---\n",
        "\n",
        "\n",
        "  2CGTAATTCGCG $  \\underset{k_{-1}}{\\stackrel{k_1}{\\rightleftharpoons}} $ DUPLEX\n",
        "\n",
        "\n",
        "\n",
        "\n",
        "\n"
      ]
    },
    {
      "cell_type": "code",
      "metadata": {
        "id": "xjKiVNkG2eRL",
        "outputId": "f94785c0-3685-42e5-9717-a38b8ca3dd89",
        "colab": {
          "base_uri": "https://localhost:8080/",
          "height": 391
        }
      },
      "source": [
        "import numpy as np\n",
        "import sympy as sp\n",
        "import matplotlib.pyplot as plt\n",
        "!pip install lmfit\n",
        "import lmfit\n",
        "sp.init_printing(use_latex=False)"
      ],
      "execution_count": null,
      "outputs": [
        {
          "output_type": "stream",
          "text": [
            "Collecting lmfit\n",
            "\u001b[?25l  Downloading https://files.pythonhosted.org/packages/d1/2e/9e4cdcebf93603ce57bc7577707ad56ed1282ae306f611e525612b9cfeea/lmfit-1.0.1.tar.gz (258kB)\n",
            "\u001b[K     |████████████████████████████████| 266kB 2.8MB/s \n",
            "\u001b[?25hCollecting asteval>=0.9.16\n",
            "\u001b[?25l  Downloading https://files.pythonhosted.org/packages/4d/35/140edd280047b77aef487a8840c0f60372ab15210eb8064e5de9b832730c/asteval-0.9.19.tar.gz (207kB)\n",
            "\u001b[K     |████████████████████████████████| 215kB 8.8MB/s \n",
            "\u001b[?25hRequirement already satisfied: numpy>=1.16 in /usr/local/lib/python3.6/dist-packages (from lmfit) (1.18.5)\n",
            "Requirement already satisfied: scipy>=1.2 in /usr/local/lib/python3.6/dist-packages (from lmfit) (1.4.1)\n",
            "Collecting uncertainties>=3.0.1\n",
            "\u001b[?25l  Downloading https://files.pythonhosted.org/packages/b0/e0/fc200da8190729dcb685ae4877ed6936d31d64aeccb8cc355d9ec982681d/uncertainties-3.1.4-py2.py3-none-any.whl (246kB)\n",
            "\u001b[K     |████████████████████████████████| 256kB 12.5MB/s \n",
            "\u001b[?25hRequirement already satisfied: future in /usr/local/lib/python3.6/dist-packages (from uncertainties>=3.0.1->lmfit) (0.16.0)\n",
            "Building wheels for collected packages: lmfit, asteval\n",
            "  Building wheel for lmfit (setup.py) ... \u001b[?25l\u001b[?25hdone\n",
            "  Created wheel for lmfit: filename=lmfit-1.0.1-cp36-none-any.whl size=81991 sha256=50a804e32baae1ecef7bc0a8b25a08c9d4428256e63560acf5ff3fd3d9eddbd7\n",
            "  Stored in directory: /root/.cache/pip/wheels/ef/22/8d/6cd9c0af36f501cfb248673b05dad5d2c27504951d55519acb\n",
            "  Building wheel for asteval (setup.py) ... \u001b[?25l\u001b[?25hdone\n",
            "  Created wheel for asteval: filename=asteval-0.9.19-cp36-none-any.whl size=17486 sha256=8049701301bb37d06de112b49f1fa107fd49112dd442a549da06e95754692937\n",
            "  Stored in directory: /root/.cache/pip/wheels/59/da/bf/62853db4291f1c5f91326e32e4d1766b8cfcccd1c0e6eaf53f\n",
            "Successfully built lmfit asteval\n",
            "Installing collected packages: asteval, uncertainties, lmfit\n",
            "Successfully installed asteval-0.9.19 lmfit-1.0.1 uncertainties-3.1.4\n"
          ],
          "name": "stdout"
        }
      ]
    },
    {
      "cell_type": "code",
      "metadata": {
        "id": "x-Pm2Fizcoy2",
        "outputId": "33ba7271-46f7-4a2b-ee0a-ef13582133be",
        "colab": {
          "base_uri": "https://localhost:8080/",
          "height": 68
        }
      },
      "source": [
        "# Enter data sets \n",
        "\n",
        "temperature = np.array([304.93, 309.95, 314.95,319.85])      # temperature in Kelvin\n",
        "k_forward = np.array([0.8e5,2.3e5,3.5e5,6.0e5])   # k_1 rate constant in M^-1 s^-1 (forward reaction)\n",
        "k_reverse = np.array([5.00, 100, 5000, 4.00])  # k_-1 rate constant in s^-1 (reverse reaction)\n",
        "inverse_temp = 1/temperature      # 1/temperature in Kelvin\n",
        "lnk_forward = np.log(k_forward)   # natural log of forward rate constant\n",
        "lnk_reverse = np.log(k_reverse)   # nautral log of reverse rate constant\n",
        "\n",
        "inverse_temp, lnk_forward, lnk_reverse # Display variables\n"
      ],
      "execution_count": null,
      "outputs": [
        {
          "output_type": "execute_result",
          "data": {
            "text/plain": [
              "(array([0.00327944, 0.00322633, 0.00317511, 0.00312647]),\n",
              " array([11.28978191, 12.34583459, 12.76568843, 13.30468493]),\n",
              " array([1.60943791, 4.60517019, 8.51719319, 1.38629436]))"
            ]
          },
          "metadata": {
            "tags": []
          },
          "execution_count": 14
        }
      ]
    },
    {
      "cell_type": "code",
      "metadata": {
        "id": "wlc4LTXfaxrs",
        "outputId": "bdbc8db4-6e3d-447f-bde7-09b06b9b22f1",
        "colab": {
          "base_uri": "https://localhost:8080/",
          "height": 296
        }
      },
      "source": [
        "plt.plot(inverse_temp,lnk_forward,\"-o\",color='b')   #plot ln k_forward vs 1/T\n",
        "plt.plot(inverse_temp,lnk_reverse,\"-o\",color='r')   #plot ln k_reverse vs 1/T\n",
        "\n",
        "plt.xlabel(\"1/T\")\n",
        "plt.ylabel(\"ln k\")\n",
        "plt.legend([\"forward rxn\",\"reverse rxn\"],loc='lower right')"
      ],
      "execution_count": null,
      "outputs": [
        {
          "output_type": "execute_result",
          "data": {
            "text/plain": [
              "<matplotlib.legend.Legend at 0x7f46bfa41668>"
            ]
          },
          "metadata": {
            "tags": []
          },
          "execution_count": 32
        },
        {
          "output_type": "display_data",
          "data": {
            "image/png": "[encoded data removed]",
            "text/plain": [
              "<Figure size 432x288 with 1 Axes>"
            ]
          },
          "metadata": {
            "tags": [],
            "needs_background": "light"
          }
        }
      ]
    },
    {
      "cell_type": "code",
      "metadata": {
        "id": "88ZnkG7HTVyc"
      },
      "source": [
        "# General function definition for a linear fit\n",
        "\n",
        "def fit_function_linear(params, x, y):\n",
        "    ycalc = params['slope'] * x + params['yint']     # y = mx+b\n",
        "    resid = y - ycalc\n",
        "    return resid"
      ],
      "execution_count": null,
      "outputs": []
    },
    {
      "cell_type": "code",
      "metadata": {
        "id": "NGldfKcT2eRl",
        "outputId": "c7c25239-29c2-4768-f491-58e94bfa7d0b",
        "colab": {
          "base_uri": "https://localhost:8080/",
          "height": 255
        }
      },
      "source": [
        "# Equation Fit\n",
        "\n",
        "params_k_forward = lmfit.Parameters()\n",
        "params_k_forward.add('yint',value = 0)\n",
        "params_k_forward.add('slope',value = 1)\n",
        "\n",
        "result_k_forward_lin = lmfit.minimize(fit_function_linear, params_k_forward, args=(inverse_temp, lnk_forward))\n",
        "\n",
        "print(lmfit.fit_report(result_k_forward_lin))"
      ],
      "execution_count": null,
      "outputs": [
        {
          "output_type": "stream",
          "text": [
            "[[Fit Statistics]]\n",
            "    # fitting method   = leastsq\n",
            "    # function evals   = 28\n",
            "    # data points      = 4\n",
            "    # variables        = 2\n",
            "    chi-square         = 0.08215347\n",
            "    reduced chi-square = 0.04107674\n",
            "    Akaike info crit   = -11.5418420\n",
            "    Bayesian info crit = -12.7692533\n",
            "[[Variables]]\n",
            "    yint:   53.1202556 +/- 5.68855550 (10.71%) (init = 0)\n",
            "    slope: -12709.5106 +/- 1776.37277 (13.98%) (init = 1)\n",
            "[[Correlations]] (unreported correlations are < 0.100)\n",
            "    C(yint, slope) = -1.000\n"
          ],
          "name": "stdout"
        }
      ]
    },
    {
      "cell_type": "code",
      "metadata": {
        "id": "9DUrAV9_eFtl"
      },
      "source": [
        "# check fit with plot\n",
        "\n",
        "m_k_forward = -12709.5016   # enter slope\n",
        "b_k_forward = 53.1202556  # enter y-intercept\n",
        "y_k_forwardfit = m_k_forward*inverse_temp+b_k_forward    # y = mx + b  linear equation"
      ],
      "execution_count": null,
      "outputs": []
    },
    {
      "cell_type": "code",
      "metadata": {
        "id": "WQh_lPAifhUc",
        "outputId": "a308c8ae-c59a-4753-ea08-8ac17d3e99cc",
        "colab": {
          "base_uri": "https://localhost:8080/",
          "height": 296
        }
      },
      "source": [
        "# plot fit\n",
        "\n",
        "plt.plot(inverse_temp, lnk_forward, marker='o', color='b')    # original data\n",
        "plt.plot(inverse_temp, y_k_forwardfit,  marker='o', color='g')                # fit results\n",
        "plt.xlabel(\"1/T\")\n",
        "plt.ylabel(\"ln(k_forward)\")\n",
        "plt.legend(['forward rxn', 'fit'], loc='lower right')"
      ],
      "execution_count": null,
      "outputs": [
        {
          "output_type": "execute_result",
          "data": {
            "text/plain": [
              "<matplotlib.legend.Legend at 0x7f46bf9ba7b8>"
            ]
          },
          "metadata": {
            "tags": []
          },
          "execution_count": 33
        },
        {
          "output_type": "display_data",
          "data": {
            "image/png": "[encoded data removed]",
            "text/plain": [
              "<Figure size 432x288 with 1 Axes>"
            ]
          },
          "metadata": {
            "tags": [],
            "needs_background": "light"
          }
        }
      ]
    },
    {
      "cell_type": "code",
      "metadata": {
        "id": "1VrMwqdbd4Mx",
        "outputId": "60671d77-53d1-419a-adb2-b15fec08427c",
        "colab": {
          "base_uri": "https://localhost:8080/",
          "height": 255
        }
      },
      "source": [
        "# Equation Fit\n",
        "\n",
        "params_k_reverse = lmfit.Parameters()\n",
        "params_k_reverse.add('yint',value = 0)\n",
        "params_k_reverse.add('slope',value = 1)\n",
        "\n",
        "result_k_reverse_lin = lmfit.minimize(fit_function_linear, params_k_reverse, args=(inverse_temp, lnk_reverse))\n",
        "\n",
        "print(lmfit.fit_report(result_k_reverse_lin))"
      ],
      "execution_count": null,
      "outputs": [
        {
          "output_type": "stream",
          "text": [
            "[[Fit Statistics]]\n",
            "    # fitting method   = leastsq\n",
            "    # function evals   = 24\n",
            "    # data points      = 4\n",
            "    # variables        = 2\n",
            "    chi-square         = 32.6288475\n",
            "    reduced chi-square = 16.3144237\n",
            "    Akaike info crit   = 12.3956097\n",
            "    Bayesian info crit = 11.1681984\n",
            "[[Variables]]\n",
            "    yint:   27.2588255 +/- 113.367840 (415.89%) (init = 0)\n",
            "    slope: -7254.99605 +/- 35401.5258 (487.96%) (init = 1)\n",
            "[[Correlations]] (unreported correlations are < 0.100)\n",
            "    C(yint, slope) = -1.000\n"
          ],
          "name": "stdout"
        }
      ]
    },
    {
      "cell_type": "code",
      "metadata": {
        "id": "JgnQnF7o2eRo"
      },
      "source": [
        "# check fit with plot\n",
        "\n",
        "m_k_reverse = -7254.99605   # enter slope\n",
        "b_k_reverse = 27.2588255  # enter y-intercept\n",
        "y_k_reversefit = m_k_reverse*inverse_temp+b_k_reverse    # y = mx + b  linear equation"
      ],
      "execution_count": null,
      "outputs": []
    },
    {
      "cell_type": "code",
      "metadata": {
        "id": "lfBlUTIs2eRq",
        "outputId": "8d42d8c6-7615-4f58-da52-537ef43a61a5",
        "colab": {
          "base_uri": "https://localhost:8080/",
          "height": 296
        }
      },
      "source": [
        "# plot fit\n",
        "\n",
        "plt.plot(inverse_temp, lnk_reverse, marker='o', color='b')    # original data\n",
        "plt.plot(inverse_temp, y_k_reversefit,  marker='o', color='g')                # fit results\n",
        "plt.xlabel(\"1/T\")\n",
        "plt.ylabel(\"ln(k_reverse)\")\n",
        "plt.legend(['reverse rxn', 'fit'], loc='lower right')"
      ],
      "execution_count": null,
      "outputs": [
        {
          "output_type": "execute_result",
          "data": {
            "text/plain": [
              "<matplotlib.legend.Legend at 0x7f46bf927cf8>"
            ]
          },
          "metadata": {
            "tags": []
          },
          "execution_count": 34
        },
        {
          "output_type": "display_data",
          "data": {
            "image/png": "[encoded data removed]",
            "text/plain": [
              "<Figure size 432x288 with 1 Axes>"
            ]
          },
          "metadata": {
            "tags": [],
            "needs_background": "light"
          }
        }
      ]
    },
    {
      "cell_type": "code",
      "metadata": {
        "id": "NYMJzVVS_fnB",
        "outputId": "4524312a-d39d-458f-89e5-adedb9ac9bd6",
        "colab": {
          "base_uri": "https://localhost:8080/",
          "height": 34
        }
      },
      "source": [
        "#Calculate activation energy\n",
        "R = 8.3145\n",
        "activation_energy = (-R*m_k_forward)/1000\n",
        "(activation_energy, \"kJ/mol\")"
      ],
      "execution_count": null,
      "outputs": [
        {
          "output_type": "execute_result",
          "data": {
            "text/plain": [
              "(105.67315105320002, 'kJ/mol')"
            ]
          },
          "metadata": {
            "tags": []
          },
          "execution_count": 39
        }
      ]
    }
  ]
}