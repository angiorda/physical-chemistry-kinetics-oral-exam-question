{
  "nbformat": 4,
  "nbformat_minor": 0,
  "metadata": {
    "kernelspec": {
      "display_name": "Python 3",
      "language": "python",
      "name": "python3"
    },
    "language_info": {
      "codemirror_mode": {
        "name": "ipython",
        "version": 3
      },
      "file_extension": ".py",
      "mimetype": "text/x-python",
      "name": "python",
      "nbconvert_exporter": "python",
      "pygments_lexer": "ipython3",
      "version": "3.6.8"
    },
    "colab": {
      "name": "Kinetics oral exam question - student version.ipynb",
      "provenance": [],
      "include_colab_link": true
    }
  },
  "cells": [
    {
      "cell_type": "markdown",
      "metadata": {
        "id": "view-in-github",
        "colab_type": "text"
      },
      "source": [
        "<a href=\"https://colab.research.google.com/github/angiorda/physical-chemistry-kinetics-oral-exam-question/blob/main/Kinetics_oral_exam_question_student_version.ipynb\" target=\"_parent\"><img src=\"https://colab.research.google.com/assets/colab-badge.svg\" alt=\"Open In Colab\"/></a>"
      ]
    },
    {
      "cell_type": "markdown",
      "metadata": {
        "id": "PNHcwy7n2eRJ"
      },
      "source": [
        "The kinetics of double-stand formation for a DNA oligonucleotide containing a GTbase pair was measure by temperature dependent kinteics experiment. The reaction and data obtained are given below. Do both the forward and reverse reactions follow Arrhenius behavior?  If so, calculate the activation energy for the reaction(s). If not, why can we not calculate an activation energy?  \n",
        "\n",
        "---\n",
        "\n",
        "\n",
        "  2CGTAATTCGCG $  \\underset{k_{-1}}{\\stackrel{k_1}{\\rightleftharpoons}} $ DUPLEX\n",
        "\n",
        "\n",
        "\n",
        "\n",
        "\n"
      ]
    },
    {
      "cell_type": "code",
      "metadata": {
        "id": "xjKiVNkG2eRL"
      },
      "source": [
        "import numpy as np\n",
        "import sympy as sp\n",
        "import matplotlib.pyplot as plt\n",
        "!pip install lmfit\n",
        "import lmfit\n",
        "sp.init_printing(use_latex=False)"
      ],
      "execution_count": null,
      "outputs": []
    },
    {
      "cell_type": "code",
      "metadata": {
        "id": "x-Pm2Fizcoy2"
      },
      "source": [
        "# Enter data sets \n",
        "\n",
        "temperature = np.array([304.93, 309.95, 314.95,319.85])      # temperature in Kelvin\n",
        "k_forward = np.array([0.8e5,2.3e5,3.5e5,6.0e5])   # k_1 rate constant in M^-1 s^-1 (forward reaction)\n",
        "k_reverse = np.array([5.00, 100, 5000, 4.00])  # k_-1 rate constant in s^-1 (reverse reaction)\n",
        "inverse_temp = 1/_______      # 1/temperature in Kelvin\n",
        "lnk_forward = np.log(______)   # natural log of forward rate constant\n",
        "lnk_reverse = np.log(______)   # nautral log of reverse rate constant\n",
        "\n",
        "inverse_temp, lnk_forward, lnk_reverse # Display variables\n"
      ],
      "execution_count": null,
      "outputs": []
    },
    {
      "cell_type": "code",
      "metadata": {
        "id": "wlc4LTXfaxrs"
      },
      "source": [
        "plt.plot(_______,________,\"-o\",color='b')   #plot ln k_forward vs 1/T\n",
        "plt.plot(_______,________,\"-o\",color='r')   #plot ln k_reverse vs 1/T\n",
        "\n",
        "plt.xlabel(\"1/T\")\n",
        "plt.ylabel(\"ln k\")\n",
        "plt.legend([\"forward rxn\",\"reverse rxn\"],loc='lower right')"
      ],
      "execution_count": null,
      "outputs": []
    },
    {
      "cell_type": "code",
      "metadata": {
        "id": "88ZnkG7HTVyc"
      },
      "source": [
        "# General function definition for a linear fit\n",
        "\n",
        "def fit_function_linear(params, x, y):\n",
        "    ycalc = params['slope'] * x + params['yint']     # y = mx+b\n",
        "    resid = y - ycalc\n",
        "    return resid"
      ],
      "execution_count": null,
      "outputs": []
    },
    {
      "cell_type": "code",
      "metadata": {
        "id": "NGldfKcT2eRl"
      },
      "source": [
        "# Equation Fit\n",
        "\n",
        "params_k_forward = lmfit.Parameters()\n",
        "params_k_forward.add('yint',value = 0)\n",
        "params_k_forward.add('slope',value = 1)\n",
        "\n",
        "result_k_forward_lin = lmfit.minimize(fit_function_linear, params_k_forward, args=(inverse_temp, lnk_forward))\n",
        "\n",
        "print(lmfit.fit_report(result_k_forward_lin))"
      ],
      "execution_count": null,
      "outputs": []
    },
    {
      "cell_type": "code",
      "metadata": {
        "id": "9DUrAV9_eFtl"
      },
      "source": [
        "# check fit with plot\n",
        "\n",
        "m_k_forward = _______   # enter slope\n",
        "b_k_forward = _______  # enter y-intercept\n",
        "y_k_forwardfit = m_k_forward*inverse_temp+b_k_forward    # y = mx + b  linear equation"
      ],
      "execution_count": null,
      "outputs": []
    },
    {
      "cell_type": "code",
      "metadata": {
        "id": "WQh_lPAifhUc"
      },
      "source": [
        "# plot fit\n",
        "\n",
        "plt.plot(______, _______, marker='o', color='b')    # original data\n",
        "plt.plot(______, _______,  marker='o', color='g')   # fit results from forward rxn linear equation in cell above\n",
        "plt.xlabel(\"1/T\")\n",
        "plt.ylabel(\"ln(k_forward)\")\n",
        "plt.legend(['forward rxn', 'fit'], loc='lower right')"
      ],
      "execution_count": null,
      "outputs": []
    },
    {
      "cell_type": "code",
      "metadata": {
        "id": "1VrMwqdbd4Mx"
      },
      "source": [
        "# Equation Fit\n",
        "\n",
        "params_k_reverse = lmfit.Parameters()\n",
        "params_k_reverse.add('yint',value = 0)\n",
        "params_k_reverse.add('slope',value = 1)\n",
        "\n",
        "result_k_reverse_lin = lmfit.minimize(fit_function_linear, params_k_reverse, args=(inverse_temp, lnk_reverse))\n",
        "\n",
        "print(lmfit.fit_report(result_k_reverse_lin))"
      ],
      "execution_count": null,
      "outputs": []
    },
    {
      "cell_type": "code",
      "metadata": {
        "id": "JgnQnF7o2eRo"
      },
      "source": [
        "# check fit with plot\n",
        "\n",
        "m_k_reverse = ______   # enter slope\n",
        "b_k_reverse = ______  # enter y-intercept\n",
        "y_k_reversefit = m_k_reverse*inverse_temp+b_k_reverse    # y = mx + b  linear equation"
      ],
      "execution_count": null,
      "outputs": []
    },
    {
      "cell_type": "code",
      "metadata": {
        "id": "lfBlUTIs2eRq"
      },
      "source": [
        "# plot fit\n",
        "\n",
        "plt.plot(_______, ______, marker='o', color='b')    # original data\n",
        "plt.plot(_______, ______,  marker='o', color='g')     # fit results for reverse rxn from linear fit in cell above\n",
        "plt.xlabel(\"1/T\")\n",
        "plt.ylabel(\"ln(k_reverse)\")\n",
        "plt.legend(['reverse rxn', 'fit'], loc='lower right')"
      ],
      "execution_count": null,
      "outputs": []
    },
    {
      "cell_type": "code",
      "metadata": {
        "id": "NYMJzVVS_fnB"
      },
      "source": [
        "#Calculate activation energy\n",
        "R = 8.3145\n",
        "activation_energy = (-R*_______)/1000\n",
        "(activation_energy, \"kJ/mol\")"
      ],
      "execution_count": null,
      "outputs": []
    }
  ]
}